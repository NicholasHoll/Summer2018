{
 "cells": [
  {
   "cell_type": "code",
   "execution_count": 2,
   "metadata": {},
   "outputs": [],
   "source": [
    "#Methods for increasing training speed\n",
    "#SFC -- LR decay happens at 60%, 80%, and 90% of training\n",
    "#"
   ]
  },
  {
   "cell_type": "code",
   "execution_count": 3,
   "metadata": {},
   "outputs": [
    {
     "name": "stderr",
     "output_type": "stream",
     "text": [
      "D:\\Everything\\Programs\\Anaconda\\lib\\site-packages\\h5py\\__init__.py:36: FutureWarning: Conversion of the second argument of issubdtype from `float` to `np.floating` is deprecated. In future, it will be treated as `np.float64 == np.dtype(float).type`.\n",
      "  from ._conv import register_converters as _register_converters\n",
      "Using TensorFlow backend.\n"
     ]
    }
   ],
   "source": [
    "%matplotlib inline\n",
    "import keras\n",
    "from keras.datasets import mnist\n",
    "from keras.preprocessing.image import ImageDataGenerator\n",
    "from keras.models import Sequential\n",
    "from keras.layers import Dense, Dropout, Activation, Flatten\n",
    "from keras.layers import Conv2D, MaxPooling2D\n",
    "from keras import backend as K\n",
    "\n",
    "import pandas as pd\n",
    "import numpy as np\n",
    "import matplotlib\n",
    "import matplotlib.pyplot as plt\n"
   ]
  },
  {
   "cell_type": "code",
   "execution_count": 4,
   "metadata": {},
   "outputs": [],
   "source": [
    "(x_train, labels), (x_test, y_testLabels) = mnist.load_data()"
   ]
  },
  {
   "cell_type": "code",
   "execution_count": 5,
   "metadata": {},
   "outputs": [
    {
     "data": {
      "image/png": "[encoded data removed]",
      "text/plain": [
       "<matplotlib.figure.Figure at 0x1bddf7329b0>"
      ]
     },
     "metadata": {},
     "output_type": "display_data"
    }
   ],
   "source": [
    "fig = plt.figure(figsize=(12, 12))\n",
    "for i in range(5):\n",
    "    fig.add_subplot(1, 5, i+1)\n",
    "    plt.title('Label: {label}'.format(label=labels[i]))\n",
    "    plt.imshow(x_train[i].reshape(28, 28), cmap='Greys')"
   ]
  },
  {
   "cell_type": "code",
   "execution_count": 6,
   "metadata": {},
   "outputs": [
    {
     "data": {
      "text/plain": [
       "matrix([[0., 0., 0., ..., 0., 0., 0.],\n",
       "        [1., 0., 0., ..., 0., 0., 0.],\n",
       "        [0., 0., 0., ..., 0., 0., 0.],\n",
       "        ...,\n",
       "        [0., 0., 0., ..., 0., 0., 0.],\n",
       "        [0., 0., 0., ..., 0., 0., 0.],\n",
       "        [0., 0., 0., ..., 0., 1., 0.]])"
      ]
     },
     "execution_count": 6,
     "metadata": {},
     "output_type": "execute_result"
    }
   ],
   "source": [
    "CLASSES = 10\n",
    "HIDDEN_UNITS = 1000\n",
    "y_train = np.zeros([labels.shape[0], CLASSES])\n",
    "for i in range(labels.shape[0]):\n",
    "        y_train[i][labels[i]] = 1\n",
    "y_train.view(type=np.matrix)"
   ]
  },
  {
   "cell_type": "code",
   "execution_count": null,
   "metadata": {},
   "outputs": [],
   "source": [
    "normalized_data = np.linalg.norm(x_train)\n",
    "M_n = HIDDEN_UNITS / CLASSES\n",
    "K_n = 5400\n",
    "\n",
    "randTest = np.random.rand(2500,5400)\n",
    "\n",
    "for iii in range(2500):\n",
    "    for jjj in range(5400):\n",
    "        randTest[iii,jjj] = np.random.randint(0, 2)\n",
    "\n",
    "for iii in range(2500):\n",
    "    for jjj in range(5400):\n",
    "        if randTest[iii,jjj] == 0:\n",
    "            randTest[iii,jjj] = -1\n",
    "        else:\n",
    "            randTest[iii,jjj] = 1"
   ]
  },
  {
   "cell_type": "code",
   "execution_count": 7,
   "metadata": {},
   "outputs": [
    {
     "name": "stdout",
     "output_type": "stream",
     "text": [
      "Train size: 54000, Test size: 6000\n"
     ]
    }
   ],
   "source": [
    "from sklearn.model_selection import train_test_split\n",
    "\n",
    "x_train, x_test, y_train, y_test = train_test_split(x_train, y_train, test_size=0.1)\n",
    "print('Train size: {train}, Test size: {test}'.format(train=x_train.shape[0], test=x_test.shape[0]))"
   ]
  },
  {
   "cell_type": "raw",
   "metadata": {},
   "source": [
    "print(labels[1])"
   ]
  },
  {
   "cell_type": "code",
   "execution_count": null,
   "metadata": {},
   "outputs": [],
   "source": [
    "x_train_class0 = []"
   ]
  },
  {
   "cell_type": "code",
   "execution_count": null,
   "metadata": {},
   "outputs": [],
   "source": [
    "for iiii in range(60000):\n",
    "    if labels[iiii] == 0:\n",
    "        x_train_class0 = np.append[]"
   ]
  },
  {
   "cell_type": "code",
   "execution_count": 8,
   "metadata": {},
   "outputs": [],
   "source": [
    "x_train2 = x_train.reshape(54000, 784)"
   ]
  },
  {
   "cell_type": "code",
   "execution_count": null,
   "metadata": {},
   "outputs": [],
   "source": [
    "x_train_class1 = []"
   ]
  },
  {
   "cell_type": "code",
   "execution_count": 9,
   "metadata": {},
   "outputs": [],
   "source": [
    "#CIW-ELM\n",
    "normalized_data = np.linalg.norm(x_train)\n",
    "M_n = HIDDEN_UNITS / CLASSES\n",
    "K_n = 5400\n",
    "\n",
    "randTest = np.random.rand(2500,5400)\n",
    "\n",
    "for iii in range(2500):\n",
    "    for jjj in range(5400):\n",
    "        randTest[iii,jjj] = np.random.randint(0, 2)\n",
    "\n",
    "for iii in range(2500):\n",
    "    for jjj in range(5400):\n",
    "        if randTest[iii,jjj] == 0:\n",
    "            randTest[iii,jjj] = -1\n",
    "        else:\n",
    "            randTest[iii,jjj] = 1\n",
    "\n",
    "\n",
    "##normalize each row of above matrix to unity length\n",
    "#Win =   #new input weights"
   ]
  },
  {
   "cell_type": "code",
   "execution_count": 10,
   "metadata": {},
   "outputs": [
    {
     "ename": "ValueError",
     "evalue": "shapes (784,54000) and (2500,5400) not aligned: 54000 (dim 1) != 2500 (dim 0)",
     "output_type": "error",
     "traceback": [
      "\u001b[1;31m---------------------------------------------------------------------------\u001b[0m",
      "\u001b[1;31mValueError\u001b[0m                                Traceback (most recent call last)",
      "\u001b[1;32m<ipython-input-10-22acd0784967>\u001b[0m in \u001b[0;36m<module>\u001b[1;34m()\u001b[0m\n\u001b[1;32m----> 1\u001b[1;33m \u001b[0mWLocal\u001b[0m \u001b[1;33m=\u001b[0m \u001b[0mnp\u001b[0m\u001b[1;33m.\u001b[0m\u001b[0mmatmul\u001b[0m\u001b[1;33m(\u001b[0m\u001b[0mnp\u001b[0m\u001b[1;33m.\u001b[0m\u001b[0mtranspose\u001b[0m\u001b[1;33m(\u001b[0m\u001b[0mx_train2\u001b[0m\u001b[1;33m)\u001b[0m\u001b[1;33m,\u001b[0m \u001b[0mrandTest\u001b[0m\u001b[1;33m)\u001b[0m\u001b[1;33m\u001b[0m\u001b[0m\n\u001b[0m",
      "\u001b[1;31mValueError\u001b[0m: shapes (784,54000) and (2500,5400) not aligned: 54000 (dim 1) != 2500 (dim 0)"
     ]
    }
   ],
   "source": [
    "# WLocal = np.matmul(np.transpose(x_train2), randTest)"
   ]
  },
  {
   "cell_type": "code",
   "execution_count": null,
   "metadata": {},
   "outputs": [],
   "source": [
    "print(vector[1])\n",
    "print(vector[2])\n",
    "print(vector[3])\n",
    "print(vector[4])\n",
    "print(vector[5])\n",
    "print(vector[6])\n",
    "print(vector[7])\n",
    "print(vector[8])\n",
    "print(vector[9])\n"
   ]
  },
  {
   "cell_type": "code",
   "execution_count": null,
   "metadata": {},
   "outputs": [],
   "source": [
    "#C-ELM\n",
    "#randomly select M distinct pairs of training data (different classes)\n",
    "#set each row of M x L imput weight matrix equal to difference between each pair\n",
    "#set bias for each hidden unit equal to scalar product of sum and difference of each pair\n",
    "#normalize each row and bias by vector of difference of corresponding pair\n",
    "#plug in"
   ]
  },
  {
   "cell_type": "code",
   "execution_count": null,
   "metadata": {},
   "outputs": [],
   "source": [
    "#RF-ELM\n",
    "#random input weight matrix (or start with CIW or C ELM input weight matrix)\n",
    "#for each node, select two distinct random integers from 1-L to form coordinates of rectangular mask\n",
    "#if mask has total area smaller than some value q, discard and repeat\n",
    "#set entries of a sqrt(L) x sqrt(L) matrix that are defined by the two pairs of integers to 1, and all others to 0\n",
    "#flatten each RF matrix into a length L vector where eaech entry corresponds to the same pixel as the entry in the data vectors x_test or x_train"
   ]
  },
  {
   "cell_type": "code",
   "execution_count": null,
   "metadata": {
    "scrolled": true
   },
   "outputs": [],
   "source": [
    "INPUT_LENGTH = x_train.shape[1]*x_train.shape[2] # 784 \n",
    "print(INPUT_LENGTH)\n",
    "\n",
    "\n",
    "Win = np.random.normal(size=[INPUT_LENGTH, HIDDEN_UNITS])\n",
    "print('Input Weight shape: {shape}'.format(shape=Win.shape))"
   ]
  },
  {
   "cell_type": "code",
   "execution_count": null,
   "metadata": {},
   "outputs": [],
   "source": [
    "def input_to_hidden(x):\n",
    "    a = np.dot(x, Win)\n",
    "    a = np.maximum(a, 0, a) # ReLU\n",
    "    return a"
   ]
  },
  {
   "cell_type": "code",
   "execution_count": null,
   "metadata": {},
   "outputs": [],
   "source": []
  },
  {
   "cell_type": "code",
   "execution_count": null,
   "metadata": {
    "scrolled": true
   },
   "outputs": [],
   "source": [
    "X = input_to_hidden(x_train2)\n",
    "Xt = np.transpose(X)\n",
    "Wout = np.dot(np.linalg.inv(np.dot(Xt, X)), np.dot(Xt, y_train))\n",
    "print('Output weights shape: {shape}'.format(shape=Wout.shape))"
   ]
  },
  {
   "cell_type": "code",
   "execution_count": null,
   "metadata": {},
   "outputs": [],
   "source": [
    "def predict(x):\n",
    "    x = input_to_hidden(x)\n",
    "    y = np.dot(x, Wout)\n",
    "    return y"
   ]
  },
  {
   "cell_type": "code",
   "execution_count": null,
   "metadata": {},
   "outputs": [],
   "source": [
    "x_test2 = x_test.reshape(6000, 784)"
   ]
  },
  {
   "cell_type": "code",
   "execution_count": null,
   "metadata": {},
   "outputs": [],
   "source": [
    "y = predict(x_test2)\n",
    "correct = 0\n",
    "total = y.shape[0]\n",
    "for i in range(total):\n",
    "    predicted = np.argmax(y[i])\n",
    "    test = np.argmax(y_test[i])\n",
    "    correct = correct + (1 if predicted == test else 0)\n",
    "print('Accuracy: {:f}'.format(correct/total))"
   ]
  },
  {
   "cell_type": "code",
   "execution_count": null,
   "metadata": {},
   "outputs": [],
   "source": []
  },
  {
   "cell_type": "code",
   "execution_count": null,
   "metadata": {},
   "outputs": [],
   "source": []
  },
  {
   "cell_type": "code",
   "execution_count": null,
   "metadata": {},
   "outputs": [],
   "source": []
  },
  {
   "cell_type": "code",
   "execution_count": null,
   "metadata": {},
   "outputs": [],
   "source": []
  },
  {
   "cell_type": "code",
   "execution_count": null,
   "metadata": {},
   "outputs": [],
   "source": []
  }
 ],
 "metadata": {
  "kernelspec": {
   "display_name": "Python 3",
   "language": "python",
   "name": "python3"
  },
  "language_info": {
   "codemirror_mode": {
    "name": "ipython",
    "version": 3
   },
   "file_extension": ".py",
   "mimetype": "text/x-python",
   "name": "python",
   "nbconvert_exporter": "python",
   "pygments_lexer": "ipython3",
   "version": "3.6.4"
  }
 },
 "nbformat": 4,
 "nbformat_minor": 2
}
